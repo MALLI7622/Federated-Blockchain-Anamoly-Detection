{
 "cells": [
  {
   "cell_type": "code",
   "execution_count": null,
   "metadata": {},
   "outputs": [],
   "source": [
    "import random\n",
    "import namegenerator\n",
    "import hashlib as hasher\n",
    "import datetime as date\n",
    "import torch\n",
    "import syft"
   ]
  },
  {
   "cell_type": "code",
   "execution_count": null,
   "metadata": {},
   "outputs": [],
   "source": [
    "hook = syft.TorchHook(torch)\n",
    "names = list()\n",
    "transaction = list()\n",
    "labels = list()"
   ]
  },
  {
   "cell_type": "code",
   "execution_count": null,
   "metadata": {},
   "outputs": [],
   "source": [
    "i = 0\n",
    "while i < 50:\n",
    "    name = namegenerator.gen()\n",
    "    names.append(name)\n",
    "    transaction_id = random.randint(100000000000000,999999999999999)\n",
    "    transaction.append(transaction_id)\n",
    "    label = random.randint(0,1)\n",
    "    labels.append(label)\n",
    "    i = i + 1"
   ]
  },
  {
   "cell_type": "code",
   "execution_count": null,
   "metadata": {},
   "outputs": [],
   "source": [
    "for i in range(20):\n",
    "    print( \"Name -->\",names[i] , \"Transaction id -->:\",transaction[i], \"Label -->\",labels[i])"
   ]
  },
  {
   "cell_type": "code",
   "execution_count": null,
   "metadata": {},
   "outputs": [],
   "source": [
    "class Block:    \n",
    "    def __init__(self, name, transaction_id,label):\n",
    "        self.name = name\n",
    "        self.transaction_id = transaction_id\n",
    "        self.label = label\n",
    "        self.hash = self.hash_block()\n",
    "\n",
    "    def hash_block(self):\n",
    "        sha = hasher.sha256()\n",
    "        sha.update(str(self.name).encode('utf-8') + \n",
    "                   str(self.transaction_id).encode('utf-8') + \n",
    "                   str(self.label).encode('utf-8'))\n",
    "        return sha.hexdigest()"
   ]
  },
  {
   "cell_type": "code",
   "execution_count": null,
   "metadata": {},
   "outputs": [],
   "source": [
    "name_0 = names[0]\n",
    "transaction_0 = transaction[0]\n",
    "labels_0 = labels[0]\n",
    "name_0,transaction_0,labels_0"
   ]
  },
  {
   "cell_type": "code",
   "execution_count": null,
   "metadata": {},
   "outputs": [],
   "source": [
    "def create_genesis_block():\n",
    "    \n",
    "    return Block(name_0, transaction_0,labels_0)"
   ]
  },
  {
   "cell_type": "code",
   "execution_count": null,
   "metadata": {},
   "outputs": [],
   "source": [
    "def next_block(last_block,j):\n",
    "    this_name = names[j]\n",
    "    this_transaction_id = transaction[j]\n",
    "    this_label = labels[j]\n",
    "    this_hash = last_block.hash\n",
    "    return Block(this_name, this_transaction_id,label)"
   ]
  },
  {
   "cell_type": "code",
   "execution_count": null,
   "metadata": {},
   "outputs": [],
   "source": [
    "blockchain = [create_genesis_block()]\n",
    "previous_block = blockchain[0]\n",
    "num_of_blocks_to_add = len(names)\n"
   ]
  },
  {
   "cell_type": "code",
   "execution_count": null,
   "metadata": {
    "scrolled": false
   },
   "outputs": [],
   "source": [
    "for i in range(0, num_of_blocks_to_add):\n",
    "    block_to_add = next_block(previous_block,i)\n",
    "    blockchain.append(block_to_add)\n",
    "    previous_block = block_to_add\n",
    "    print(\"Name: {}\\n\".format(block_to_add.name))\n",
    "    print(\"transaction_id: {}\\n\".format(block_to_add.transaction_id))\n",
    "    print(\"Label: {}\\n\".format(block_to_add.label))    \n",
    "    print(\"Hash: {}\\n\".format(block_to_add.hash))"
   ]
  },
  {
   "cell_type": "code",
   "execution_count": null,
   "metadata": {},
   "outputs": [],
   "source": [
    "a = [\"a\",\"b\",\"c\",\"d\",\"e\",\"f\",\"g\",\"h\",\"i\",\"j\",\"k\",\"l\",\"m\",\"n\",\"o\",\"p\",\"q\",\"r\",\"s\",\"t\",\"u\",\"v\",\"w\",\"x\",\"y\",\"z\",\"aa\",\"bb\",\"cc\",\n",
    "     \"dd\",\"ee\",\"ff\",\"gg\",\"hh\",\"ii\",\"jj\",\"kk\",\"ll\",\"mm\",\"nn\",\"oo\",\"pp\",\"qq\",\"rr\",\"ss\",\"tt\",\"uu\",\"vv\",\"ww\",\"xx\"]"
   ]
  },
  {
   "cell_type": "code",
   "execution_count": null,
   "metadata": {},
   "outputs": [],
   "source": [
    "b = a"
   ]
  },
  {
   "cell_type": "code",
   "execution_count": null,
   "metadata": {},
   "outputs": [],
   "source": [
    "for i in range(len(names)):\n",
    "    names[i] = syft.VirtualWorker(hook, id = names[i])\n",
    "    a[i] = torch.tensor([transaction[i]]).send(names[i])\n",
    "    b[i] = torch.tensor([labels[i]]).send(names[i])"
   ]
  },
  {
   "cell_type": "code",
   "execution_count": null,
   "metadata": {},
   "outputs": [],
   "source": [
    "for i in range(len(a)):\n",
    "    print(\"Transaction_id address -->\", a[i],\"\\n Label address -->\",b[i])"
   ]
  },
  {
   "cell_type": "code",
   "execution_count": null,
   "metadata": {},
   "outputs": [],
   "source": [
    "datasets = []"
   ]
  },
  {
   "cell_type": "code",
   "execution_count": null,
   "metadata": {},
   "outputs": [],
   "source": [
    "for i in range(len(names)):\n",
    "    datasets.append((a[i],b[i]))"
   ]
  },
  {
   "cell_type": "code",
   "execution_count": null,
   "metadata": {},
   "outputs": [],
   "source": [
    "for i in range(10):\n",
    "    print(datasets[i])"
   ]
  },
  {
   "cell_type": "code",
   "execution_count": null,
   "metadata": {},
   "outputs": [],
   "source": [
    "from torch import nn\n",
    "from torch import optim"
   ]
  },
  {
   "cell_type": "code",
   "execution_count": null,
   "metadata": {},
   "outputs": [],
   "source": [
    "def train(iterations = 20):\n",
    "    model = nn.Linear(50,22)\n",
    "    optimizer_fed = optim.SGD(params = model.parameters(), lr = 0.1)\n",
    "    for iter in range(iterations):\n",
    "        for data, target  in datasets:\n",
    "            model = model.send(data.location)\n",
    "            optimizer_fed.zero_grad()\n",
    "            pred = model(data)\n",
    "            loss = (( pred - target) ** 2).sum()\n",
    "            loss.backward()\n",
    "            optimizer_fed.step()\n",
    "            model = model.get()\n",
    "            print(loss.get())\n"
   ]
  },
  {
   "cell_type": "code",
   "execution_count": null,
   "metadata": {
    "scrolled": true
   },
   "outputs": [],
   "source": [
    "train()"
   ]
  },
  {
   "cell_type": "code",
   "execution_count": null,
   "metadata": {},
   "outputs": [],
   "source": []
  },
  {
   "cell_type": "code",
   "execution_count": null,
   "metadata": {},
   "outputs": [],
   "source": []
  },
  {
   "cell_type": "code",
   "execution_count": null,
   "metadata": {},
   "outputs": [],
   "source": []
  },
  {
   "cell_type": "code",
   "execution_count": null,
   "metadata": {},
   "outputs": [],
   "source": []
  },
  {
   "cell_type": "code",
   "execution_count": null,
   "metadata": {},
   "outputs": [],
   "source": []
  }
 ],
 "metadata": {
  "kernelspec": {
   "display_name": "Python 3",
   "language": "python",
   "name": "python3"
  },
  "language_info": {
   "codemirror_mode": {
    "name": "ipython",
    "version": 3
   },
   "file_extension": ".py",
   "mimetype": "text/x-python",
   "name": "python",
   "nbconvert_exporter": "python",
   "pygments_lexer": "ipython3",
   "version": "3.7.4"
  }
 },
 "nbformat": 4,
 "nbformat_minor": 2
}
